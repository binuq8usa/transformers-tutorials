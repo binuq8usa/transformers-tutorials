{
 "cells": [
  {
   "cell_type": "markdown",
   "metadata": {},
   "source": [
    "### GPT Implementation \n",
    "This implementation references the terminology in https://nlp.seas.harvard.edu/annotated-transformer/ and minGPT/nanoGPT. "
   ]
  },
  {
   "cell_type": "code",
   "execution_count": 2,
   "metadata": {},
   "outputs": [],
   "source": [
    "import torch\n",
    "import torch.nn as nn \n",
    "import math\n",
    "from torch.nn.functional import log_softmax, pad"
   ]
  },
  {
   "cell_type": "code",
   "execution_count": 3,
   "metadata": {},
   "outputs": [],
   "source": [
    "# Implementation in tutorial\n",
    "class EncoderDecoder(nn.Module):\n",
    "    \"\"\"\n",
    "    # define the basic encoder/decoder architecture\n",
    "    \"\"\"\n",
    "    def __init__(self, encoder, decoder, src_embed, tgt_embed, generator):\n",
    "        super(EncoderDecoder).__init__()\n",
    "        self.encoder = encoder\n",
    "        self.decoder = decoder\n",
    "        self.src_embed = src_embed\n",
    "        self.tgt_embed = tgt_embed\n",
    "        self.generator = generator\n",
    "    \n",
    "    def encode(self, src, src_mask):\n",
    "        return self.encoder(self.src_embed(src), src_mask)\n",
    "    \n",
    "    def decode(self, memory, src_mask, tgt, tgt_mask):\n",
    "        return self.decoder(self.tgt_embed(tgt), memory, src_mask, tgt_mask)\n",
    "    \n",
    "    def forward(self, src, tgt, src_mask, tgt_mask):\n",
    "        return self.decode(memory=self.encode(src, src_mask),src_mask=src_mask,\n",
    "                           tgt=tgt, tgt_mask=tgt_mask)\n",
    "        \n",
    "class Generator(nn.Module):\n",
    "    \"Define standard linear + softmax generation step\"\n",
    "    def __init__(self, d_model, vocab_size):\n",
    "        super(Generator).__init__()\n",
    "        self.proj = nn.Linear(d_model, vocab_size)\n",
    "    \n",
    "    def forward(self, x):\n",
    "        return log_softmax(self.proj(x),dim=-1)\n",
    "    \n",
    "# My Implementation\n",
    "class MyEncoderDecoder(nn.Module):\n",
    "    # defining all the blocks that is part of the encoder decoder class\n",
    "    def __init__(self, encoder_block, decoder_block, input_embedding_block, output_embedding_block, generator_block):\n",
    "        super(EncoderDecoder).__init__()\n",
    "        self.encoder = encoder_block\n",
    "        self.decoder = decoder_block\n",
    "        self.input_embedder = input_embedding_block\n",
    "        self.output_embedder = output_embedding_block\n",
    "        self.generator = generator_block\n",
    "        \n",
    "    def forward(self, input, input_mask, output, output_mask):\n",
    "        encoded_input = self.encode(input, input_mask)\n",
    "        return self.decode(encoded_input, output, output_mask)\n",
    "    \n",
    "    # encode function\n",
    "    def encode(self, input, input_mask):\n",
    "        input_embedding = self.input_embedder(input)\n",
    "        return self.encoder(input_embedding,input_mask)\n",
    "    \n",
    "    # decode function\n",
    "    def decode(self, encoded_input, output, output_mask):\n",
    "        output_embedding = self.output_embedder(output)\n",
    "        return self.decoder(output_embedding, encoded_input, output, output_mask)\n",
    "    \n",
    "class MyGenerator(nn.Module):\n",
    "    def __init__(self, d_model, vocab_size):\n",
    "        super(Generator).__init__()\n",
    "        self.proj = nn.Linear(d_model, vocab_size)\n",
    "    \n",
    "    def forward(self,x):\n",
    "        return log_softmax(self.proj(x), dim=-1)"
   ]
  },
  {
   "cell_type": "code",
   "execution_count": null,
   "metadata": {},
   "outputs": [],
   "source": [
    "# define the repetable layers\n",
    "import copy\n",
    "def clones(module : nn.Module, N : int):\n",
    "    return nn.ModuleList( [ copy.deepcopy(module) for _ in range(N) ])\n",
    "\n",
    "# define the encoder\n",
    "\n",
    "\n",
    "# define the LayerNorm"
   ]
  }
 ],
 "metadata": {
  "kernelspec": {
   "display_name": ".venv",
   "language": "python",
   "name": "python3"
  },
  "language_info": {
   "codemirror_mode": {
    "name": "ipython",
    "version": 3
   },
   "file_extension": ".py",
   "mimetype": "text/x-python",
   "name": "python",
   "nbconvert_exporter": "python",
   "pygments_lexer": "ipython3",
   "version": "3.10.12"
  }
 },
 "nbformat": 4,
 "nbformat_minor": 2
}
